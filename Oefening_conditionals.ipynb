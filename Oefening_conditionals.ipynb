{
  "metadata": {
    "kernelspec": {
      "name": "python",
      "display_name": "Python (Pyodide)",
      "language": "python"
    },
    "language_info": {
      "codemirror_mode": {
        "name": "python",
        "version": 3
      },
      "file_extension": ".py",
      "mimetype": "text/x-python",
      "name": "python",
      "nbconvert_exporter": "python",
      "pygments_lexer": "ipython3",
      "version": "3.8"
    }
  },
  "nbformat_minor": 5,
  "nbformat": 4,
  "cells": [
    {
      "id": "53688da7",
      "cell_type": "markdown",
      "source": "# 🔀 Oefeningen: Conditionele structuur (`if`, `elif`, `else`)\n\nIn deze oefeningen ligt de nadruk op het correct gebruiken van **`if`**, **`elif`** en **`else`**.  \nJe oefent op het bepalen van de juiste **structuur en volgorde** van voorwaarden.\n\n👉 Vul telkens de ontbrekende structuur aan.\n",
      "metadata": {}
    },
    {
      "id": "e075a55b",
      "cell_type": "code",
      "source": "# ✏️ Oefening 1:\n# Gebruik een conditional om te bepalen of het getal positief, negatief of 0 is.\n\ngetal = 0\n\n#vervang dit door jouw code\n    print(\"Positief\")\n#vervang dit door jouw code\n    print(\"Negatief\")\n#vervang dit door jouw code\n    print(\"Nul\")",
      "metadata": {
        "trusted": true
      },
      "outputs": [
        {
          "name": "stdout",
          "output_type": "stream",
          "text": "Nul\n"
        }
      ],
      "execution_count": 3
    },
    {
      "id": "52bd83d5",
      "cell_type": "code",
      "source": "# ✏️ Oefening 2:\n# Gebruik een conditional om te bepalen of het getal groter is dan 10, tussen 5 en 10 ligt, of tussen 0 en 5.\n\ngetal = 15\n\n#vervang dit door jouw code\n    print(\"Groter dan 10\")\n#vervang dit door jouw code\n    print(\"Groter dan 5\")\n#vervang dit door jouw code\n    print(\"Groter dan 0\")",
      "metadata": {
        "trusted": true
      },
      "outputs": [
        {
          "name": "stdout",
          "output_type": "stream",
          "text": "Groter dan 10\n"
        }
      ],
      "execution_count": 5
    },
    {
      "id": "2ccaa78d",
      "cell_type": "code",
      "source": "# ✏️ Oefening 3:\n# Gebruik een geneste if-structuur om eerst te controleren of de gebruiker meerderjarig is. Als dat het geval is, check je of de gebruiker is ingeschreven.\n\nleeftijd = 20\ningeschreven = True\n\n#vervang dit door jouw code\n    #vervang dit door jouw code\n        print(\"Toegang toegestaan\")\n    #vervang dit door jouw code\n        print(\"Nog inschrijven!\")\n#vervang dit door jouw code\n    print(\"Te jong\")",
      "metadata": {
        "trusted": true
      },
      "outputs": [
        {
          "name": "stdout",
          "output_type": "stream",
          "text": "Toegang toegestaan\n"
        }
      ],
      "execution_count": 6
    },
    {
      "id": "a69ed2df",
      "cell_type": "code",
      "source": "# ✏️ Oefening 4:\n# Gebruik een conditional om de gebruiker een oordeel te geven op basis van de score: Een A als de score 90 of hoger is, B als de score tussen 80 en 90 ligt, \n# een C als de score tussen 70 en 80 ligt, en een \"Niet geslaagd\" als de score lager is dan 70.\n\nscore = 83\n\n#vervang dit door jouw code\n    print(\"A\")\n#vervang dit door jouw code  \n    print(\"B\")\n#vervang dit door jouw code\n    print(\"C\")\n#vervang dit door jouw code\n    print(\"Niet geslaagd\")",
      "metadata": {
        "trusted": true
      },
      "outputs": [
        {
          "name": "stdout",
          "output_type": "stream",
          "text": "B\n"
        }
      ],
      "execution_count": 7
    }
  ]
}