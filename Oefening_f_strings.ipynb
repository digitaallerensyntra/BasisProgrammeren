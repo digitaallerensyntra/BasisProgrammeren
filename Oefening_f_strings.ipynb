{
  "metadata": {
    "kernelspec": {
      "name": "python",
      "display_name": "Python (Pyodide)",
      "language": "python"
    },
    "language_info": {
      "codemirror_mode": {
        "name": "python",
        "version": 3
      },
      "file_extension": ".py",
      "mimetype": "text/x-python",
      "name": "python",
      "nbconvert_exporter": "python",
      "pygments_lexer": "ipython3",
      "version": "3.8"
    }
  },
  "nbformat_minor": 5,
  "nbformat": 4,
  "cells": [
    {
      "id": "f58a31c4",
      "cell_type": "markdown",
      "source": "# 💡 Oefeningen: Output met f-strings\nIn deze notebook oefen je met het gebruik van **f-strings** om nette en duidelijke output te genereren.\n",
      "metadata": {}
    },
    {
      "id": "60189c8d",
      "cell_type": "code",
      "source": "# ✏️ Oefening 1: Gebruik een f-string zodat dit de output is: Hallo Lisa!\nnaam = \"Lisa\"\n",
      "metadata": {
        "trusted": true
      },
      "outputs": [],
      "execution_count": 7
    },
    {
      "id": "90766f3d",
      "cell_type": "code",
      "source": "# ✏️ Oefening 2: Gebruik een f-string zodat dit de output is: Jos is 27 jaar oud.\nnaam = \"Jos\"\nleeftijd = 27\n",
      "metadata": {
        "trusted": true
      },
      "outputs": [],
      "execution_count": 2
    },
    {
      "id": "3fbe3736",
      "cell_type": "code",
      "source": "# ✏️ Oefening 3: Gebruik een f-string zodat dit de output is: Je behaalde 73,3% op het examen. Doe de berekening binnen de f-string.\nbehaald = 11\ntotaal = 15\n",
      "metadata": {
        "trusted": true
      },
      "outputs": [],
      "execution_count": 10
    },
    {
      "id": "a4531c74-774c-4b2a-b80d-12cbcfdc7078",
      "cell_type": "markdown",
      "source": "🚀 Wil je het resultaat afronden op 1 cijfer na de komma? Gebruik dan ':.1f' na de berekening.",
      "metadata": {}
    },
    {
      "id": "7c074be1-f5ff-4dde-9871-968d60809c20",
      "cell_type": "code",
      "source": "",
      "metadata": {
        "trusted": true
      },
      "outputs": [],
      "execution_count": null
    }
  ]
}