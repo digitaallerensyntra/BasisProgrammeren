{
  "nbformat": 4,
  "nbformat_minor": 0,
  "metadata": {
    "colab": {
      "provenance": [],
      "authorship_tag": "ABX9TyNqRly+oCx/NwqOcIrd8sNm",
      "include_colab_link": true
    },
    "kernelspec": {
      "name": "python3",
      "display_name": "Python 3"
    },
    "language_info": {
      "name": "python"
    }
  },
  "cells": [
    {
      "cell_type": "markdown",
      "metadata": {
        "id": "view-in-github",
        "colab_type": "text"
      },
      "source": [
        "<a href=\"https://colab.research.google.com/github/digitaallerensyntra/BasisProgrammeren/blob/main/Oefening_lussen.ipynb\" target=\"_parent\"><img src=\"https://colab.research.google.com/assets/colab-badge.svg\" alt=\"Open In Colab\"/></a>"
      ]
    },
    {
      "cell_type": "code",
      "execution_count": 1,
      "metadata": {
        "colab": {
          "base_uri": "https://localhost:8080/"
        },
        "id": "5nBeaoiGQE6I",
        "outputId": "7c97e29b-fe82-40ca-c578-15149b7bac4e"
      },
      "outputs": [
        {
          "output_type": "stream",
          "name": "stdout",
          "text": [
            "Raad het juiste getal: 5\n",
            "Raad het juiste getal: 7\n",
            "Goed geraden!\n"
          ]
        }
      ],
      "source": [
        "antwoord = 0\n",
        "while antwoord != 7:\n",
        "    antwoord = int(input('Raad het juiste getal: '))\n",
        "\n",
        "print('Goed geraden!')"
      ]
    }
  ]
}