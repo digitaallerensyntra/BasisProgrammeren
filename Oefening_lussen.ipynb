{
  "metadata": {
    "kernelspec": {
      "name": "python",
      "display_name": "Python (Pyodide)",
      "language": "python"
    },
    "language_info": {
      "codemirror_mode": {
        "name": "python",
        "version": 3
      },
      "file_extension": ".py",
      "mimetype": "text/x-python",
      "name": "python",
      "nbconvert_exporter": "python",
      "pygments_lexer": "ipython3",
      "version": "3.8"
    },
    "colab": {
      "provenance": []
    }
  },
  "nbformat_minor": 5,
  "nbformat": 4,
  "cells": [
    {
      "id": "bad25de8",
      "cell_type": "markdown",
      "source": [
        "# 💡 Oefeningen op lussen\n",
        "Welkom! In deze notebook leer je werken met `for`- en `while`-lussen. We beginnen eenvoudig en bouwen stap voor stap op naar moeilijkere oefeningen."
      ],
      "metadata": {
        "id": "bad25de8"
      }
    },
    {
      "id": "05e9df65",
      "cell_type": "markdown",
      "source": [
        "### ✏️ Oefening 1: Tel tot 10\n",
        "Maak een for-lus die de getallen **1 tot en met 10** print."
      ],
      "metadata": {
        "id": "05e9df65"
      }
    },
    {
      "id": "9e04b545",
      "cell_type": "code",
      "source": [
        "# zet hier jouw code"
      ],
      "metadata": {
        "trusted": true,
        "id": "9e04b545"
      },
      "outputs": [],
      "execution_count": 5
    },
    {
      "id": "4bf935e4",
      "cell_type": "markdown",
      "source": [
        "### ✏️ Oefening 2: Print de tafel van 5\n",
        "Gebruik een `for`-lus om de **tafel van 5** te printen, van 1x5 tot 10x5."
      ],
      "metadata": {
        "id": "4bf935e4"
      }
    },
    {
      "id": "1628e51e",
      "cell_type": "code",
      "source": [
        "# zet hier jouw code"
      ],
      "metadata": {
        "trusted": true,
        "id": "1628e51e"
      },
      "outputs": [],
      "execution_count": 6
    },
    {
      "id": "0ebd4f36",
      "cell_type": "markdown",
      "source": [
        "### ✏️ Oefening 3: Tel per twee\n",
        "Gebruik `range()` om de **even** getallen van 0 t.e.m. 20 te printen."
      ],
      "metadata": {
        "id": "0ebd4f36"
      }
    },
    {
      "id": "e20f7885",
      "cell_type": "code",
      "source": [
        "# zet hier jouw code"
      ],
      "metadata": {
        "trusted": true,
        "id": "e20f7885"
      },
      "outputs": [],
      "execution_count": 7
    },
    {
      "id": "0bbcde22",
      "cell_type": "markdown",
      "source": [
        "### ✏️ Oefening 4: Aftellen\n",
        "Schrijf een `while`-lus die **aftelt van 10 naar 1**."
      ],
      "metadata": {
        "id": "0bbcde22"
      }
    },
    {
      "id": "1e3e6a8f",
      "cell_type": "code",
      "source": [
        "# zet hier jouw code"
      ],
      "metadata": {
        "trusted": true,
        "id": "1e3e6a8f"
      },
      "outputs": [],
      "execution_count": 8
    },
    {
      "id": "187707ca",
      "cell_type": "markdown",
      "source": [
        "### ✏️ Oefening 5: Raad het juiste getal (simulatie)\n",
        "We simuleren een gebruiker die een getal probeert te raden. De lus stopt pas als het juiste getal (7) geraden wordt."
      ],
      "metadata": {
        "id": "187707ca"
      }
    },
    {
      "id": "0c86f84f",
      "cell_type": "code",
      "source": [
        "# zet hier jouw code"
      ],
      "metadata": {
        "trusted": true,
        "id": "0c86f84f"
      },
      "outputs": [],
      "execution_count": 9
    },
    {
      "id": "0845d56a",
      "cell_type": "markdown",
      "source": [
        "### ✏️ Oefening 6: Countdown met for-lus\n",
        "Schrijf zelf een `for`-lus die aftelt van 5 naar 1, en dan \"Start!\" print."
      ],
      "metadata": {
        "id": "0845d56a"
      }
    },
    {
      "id": "7b58402c",
      "cell_type": "code",
      "source": [
        "# zet hier jouw code\n"
      ],
      "metadata": {
        "trusted": true,
        "id": "7b58402c"
      },
      "outputs": [],
      "execution_count": 10
    },
    {
      "id": "e479815a",
      "cell_type": "markdown",
      "source": [
        "### ✏️ Oefening 7: Wachtwoord vragen\n",
        "Vraag de gebruiker om een wachtwoord in te geven. Zolang het niet 'syntra' is, moet je blijven vragen."
      ],
      "metadata": {
        "id": "e479815a"
      }
    },
    {
      "id": "17bad39e",
      "cell_type": "code",
      "source": [
        "# zet hier jouw code\n",
        "\n"
      ],
      "metadata": {
        "trusted": true,
        "id": "17bad39e"
      },
      "outputs": [],
      "execution_count": 11
    }
  ]
}