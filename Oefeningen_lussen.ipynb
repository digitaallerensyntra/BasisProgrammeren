{
  "cells": [
    {
      "cell_type": "markdown",
      "id": "bad25de8",
      "metadata": {
        "id": "bad25de8"
      },
      "source": [
        "# 🌀 Oefeningen: Lussen in Python\n",
        "Welkom! In deze notebook leer je werken met `for`- en `while`-lussen. We beginnen eenvoudig en bouwen stap voor stap op naar moeilijkere oefeningen. We gebruiken nog **geen lijsten of geavanceerde structuren**."
      ]
    },
    {
      "cell_type": "markdown",
      "id": "4397229e",
      "metadata": {
        "id": "4397229e"
      },
      "source": [
        "## 🔁 De `for`-lus\n",
        "Een `for`-lus gebruik je als je **van tevoren weet hoe vaak** iets herhaald moet worden.\n",
        "```python\n",
        "for i in range(5):\n",
        "    print(i)\n",
        "```\n",
        "Output:\n",
        "```\n",
        "0\n",
        "1\n",
        "2\n",
        "3\n",
        "4\n",
        "```"
      ]
    },
    {
      "cell_type": "markdown",
      "id": "05e9df65",
      "metadata": {
        "id": "05e9df65"
      },
      "source": [
        "### ✏️ Oefening 1: Tel tot 10\n",
        "Maak een for-lus die de getallen **1 tot en met 10** print."
      ]
    },
    {
      "cell_type": "code",
      "execution_count": null,
      "id": "9e04b545",
      "metadata": {
        "id": "9e04b545"
      },
      "outputs": [],
      "source": [
        "for i in range(1, 11):\n",
        "    print(i)"
      ]
    },
    {
      "cell_type": "markdown",
      "id": "4bf935e4",
      "metadata": {
        "id": "4bf935e4"
      },
      "source": [
        "### ✏️ Oefening 2: Print de tafel van 5\n",
        "Gebruik een `for`-lus om de tafel van 5 te printen, van 1x5 tot 10x5."
      ]
    },
    {
      "cell_type": "code",
      "execution_count": null,
      "id": "1628e51e",
      "metadata": {
        "id": "1628e51e"
      },
      "outputs": [],
      "source": [
        "for i in range(1, 11):\n",
        "    print(i, 'x 5 =', i * 5)"
      ]
    },
    {
      "cell_type": "markdown",
      "id": "0ebd4f36",
      "metadata": {
        "id": "0ebd4f36"
      },
      "source": [
        "### ✏️ Oefening 3: Tel per twee\n",
        "Gebruik `range()` om de even getallen van 0 t.e.m. 20 te printen."
      ]
    },
    {
      "cell_type": "code",
      "execution_count": null,
      "id": "e20f7885",
      "metadata": {
        "id": "e20f7885"
      },
      "outputs": [],
      "source": [
        "for i in range(0, 21, 2):\n",
        "    print(i)"
      ]
    },
    {
      "cell_type": "markdown",
      "id": "cd28481b",
      "metadata": {
        "id": "cd28481b"
      },
      "source": [
        "## 🔄 De `while`-lus\n",
        "Een `while`-lus gebruik je als je **nog niet weet** hoe vaak iets moet worden herhaald.\n",
        "```python\n",
        "i = 0\n",
        "while i < 5:\n",
        "    print(i)\n",
        "    i += 1\n",
        "```"
      ]
    },
    {
      "cell_type": "markdown",
      "id": "0bbcde22",
      "metadata": {
        "id": "0bbcde22"
      },
      "source": [
        "### ✏️ Oefening 4: Aftellen\n",
        "Schrijf een `while`-lus die **aftelt van 10 naar 1**."
      ]
    },
    {
      "cell_type": "code",
      "execution_count": null,
      "id": "1e3e6a8f",
      "metadata": {
        "id": "1e3e6a8f"
      },
      "outputs": [],
      "source": [
        "i = 10\n",
        "while i > 0:\n",
        "    print(i)\n",
        "    i -= 1"
      ]
    },
    {
      "cell_type": "markdown",
      "id": "187707ca",
      "metadata": {
        "id": "187707ca"
      },
      "source": [
        "### ✏️ Oefening 5: Raad het juiste getal (simulatie)\n",
        "We simuleren een gebruiker die een getal probeert te raden. De lus stopt pas als het juiste getal (7) geraden wordt."
      ]
    },
    {
      "cell_type": "code",
      "execution_count": null,
      "id": "0c86f84f",
      "metadata": {
        "id": "0c86f84f"
      },
      "outputs": [],
      "source": [
        "antwoord = 0\n",
        "while antwoord != 7:\n",
        "    antwoord = int(input('Raad het juiste getal: '))\n",
        "\n",
        "print('Goed geraden!')"
      ]
    },
    {
      "cell_type": "markdown",
      "id": "0845d56a",
      "metadata": {
        "id": "0845d56a"
      },
      "source": [
        "### ✏️ Oefening 6: Countdown met for-lus (zelf schrijven)\n",
        "Schrijf zelf een `for`-lus die aftelt van 5 naar 1, en dan \"Start!\" print."
      ]
    },
    {
      "cell_type": "code",
      "execution_count": null,
      "id": "7b58402c",
      "metadata": {
        "id": "7b58402c"
      },
      "outputs": [],
      "source": [
        "# Jouw code hier\n"
      ]
    },
    {
      "cell_type": "markdown",
      "id": "e479815a",
      "metadata": {
        "id": "e479815a"
      },
      "source": [
        "### ✏️ Oefening 7: Wachtwoord vragen (zelf schrijven)\n",
        "Vraag de gebruiker om een wachtwoord in te geven. Zolang het niet 'geheim' is, moet je blijven vragen."
      ]
    },
    {
      "cell_type": "code",
      "execution_count": null,
      "id": "17bad39e",
      "metadata": {
        "id": "17bad39e"
      },
      "outputs": [],
      "source": [
        "# Jouw code hier\n"
      ]
    }
  ],
  "metadata": {
    "colab": {
      "provenance": []
    }
  },
  "nbformat": 4,
  "nbformat_minor": 5
}