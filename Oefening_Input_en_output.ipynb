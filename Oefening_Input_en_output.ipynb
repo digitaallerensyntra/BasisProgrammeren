{
  "nbformat": 4,
  "nbformat_minor": 0,
  "metadata": {
    "colab": {
      "provenance": [],
      "authorship_tag": "ABX9TyP4DmT3EATZNabyidmyhf6p"
    },
    "kernelspec": {
      "name": "python3",
      "display_name": "Python 3"
    },
    "language_info": {
      "name": "python"
    }
  },
  "cells": [
    {
      "cell_type": "markdown",
      "source": [
        "# 💡 Oefeningen op input en output\n",
        "In deze oefeningen ga je enkele programma's schrijven die gebruikersinput vragen, een eenvoudige berekening uitvoeren en de uitkomst tonen, al dan niet met een f-string."
      ],
      "metadata": {
        "id": "JwsGUAPZ-Gd_"
      }
    },
    {
      "cell_type": "markdown",
      "source": [
        "## ✏️  Oefening 1A: Rekening delen in een restaurant\n",
        "Vraag de gebruiker om het totaalbedrag van de rekening en met hoeveel personen die gedeeld wordt. Bereken het bedrag per persoon."
      ],
      "metadata": {
        "id": "rIXHz3Fy-Ph7"
      }
    },
    {
      "cell_type": "code",
      "source": [
        "# Vraag het totaalbedrag van de rekening\n",
        "\n",
        "# Vraag het aantal personen\n",
        "\n",
        "# Bereken het bedrag per persoon\n",
        "\n",
        "# Toon het resultaat\n"
      ],
      "metadata": {
        "id": "bLlzJrvE-U4Z"
      },
      "execution_count": null,
      "outputs": []
    },
    {
      "cell_type": "markdown",
      "source": [
        "## 🚀 Oefening 1B: Fooi toevoegen\n",
        "Breid het programma uit door de gebruiker ook te vragen hoeveel procent fooi er wordt gegeven. Voeg deze toe aan het totaalbedrag en bereken het nieuwe bedrag per persoon."
      ],
      "metadata": {
        "id": "z5-IYLCm-epW"
      }
    },
    {
      "cell_type": "code",
      "source": [
        "# Vraag het totaalbedrag van de rekening\n",
        "\n",
        "# Vraag het aantal personen\n",
        "\n",
        "# Vraag de fooi in procent\n",
        "\n",
        "# Bereken het totaalbedrag inclusief fooi\n",
        "\n",
        "# Bereken het bedrag per persoon\n",
        "\n",
        "# Toon het resultaat\n"
      ],
      "metadata": {
        "id": "OG94hlsz-f9T"
      },
      "execution_count": null,
      "outputs": []
    },
    {
      "cell_type": "markdown",
      "source": [
        "## ✏️  Oefening 2\n",
        "Gebruik een f-string zodat dit de output is: Hallo Lisa!"
      ],
      "metadata": {
        "id": "__BuS2KI-m1T"
      }
    },
    {
      "cell_type": "code",
      "source": [
        "naam = \"Lisa\"\n",
        "# zet hier jouw code\n"
      ],
      "metadata": {
        "id": "PXKnpdKQ-ydu"
      },
      "execution_count": null,
      "outputs": []
    },
    {
      "cell_type": "markdown",
      "source": [
        "## ✏️  Oefening 3\n",
        "Gebruik een f-string zodat dit de output is: Jos is 27 jaar oud."
      ],
      "metadata": {
        "id": "z8cFzd8H_-1u"
      }
    },
    {
      "cell_type": "code",
      "source": [
        "naam = \"Jos\"\n",
        "leeftijd = 27\n",
        "# zet hier jouw code\n"
      ],
      "metadata": {
        "id": "1SsJ0aBg-0_C"
      },
      "execution_count": null,
      "outputs": []
    },
    {
      "cell_type": "markdown",
      "source": [
        "## ✏️  Oefening 4\n",
        "Gebruik een f-string zodat dit de output is: Je behaalde 73,3% op het examen. Doe de berekening binnen de f-string."
      ],
      "metadata": {
        "id": "-Ks6nasGAG7g"
      }
    },
    {
      "cell_type": "code",
      "source": [
        "behaald = 11\n",
        "totaal = 15\n",
        "# zet hier jouw code\n"
      ],
      "metadata": {
        "id": "R-OcyjuF-3PC"
      },
      "execution_count": null,
      "outputs": []
    },
    {
      "cell_type": "markdown",
      "source": [
        "## ✏️  Oefening 5\n",
        "Kopieer de code die je hebt gemaakt voor oefening 1B, maar gebruik een f-string om de output te tonen. Rond af op 2 cijfers na de komma met :.2f"
      ],
      "metadata": {
        "id": "iz-R-ssWCJPA"
      }
    },
    {
      "cell_type": "code",
      "source": [
        "# zet hier jouw code"
      ],
      "metadata": {
        "id": "G-RW2RltCM3r"
      },
      "execution_count": null,
      "outputs": []
    }
  ]
}