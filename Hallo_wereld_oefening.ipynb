{
 "cells": [
  {
   "cell_type": "markdown",
   "id": "ab0f7587",
   "metadata": {},
   "source": [
    "# Hallo wereld! 🌍\n",
    "\n",
    "Welkom bij deze oefening! Je leert hier hoe je een eenvoudige printopdracht uitvoert in Python.\n",
    "\n",
    "Typ de volgende code in de cel hieronder en voer deze uit door op **Shift + Enter** te drukken:\n",
    "\n",
    "```python\n",
    "print(\"Hallo wereld!\")\n",
    "```"
   ]
  },
  {
   "cell_type": "code",
   "execution_count": null,
   "id": "914a5e96",
   "metadata": {},
   "outputs": [],
   "source": [
    "# Typ hier je code en voer deze uit\n"
   ]
  },
  {
   "cell_type": "markdown",
   "id": "175a6807",
   "metadata": {},
   "source": [
    "### ✅ Wat gebeurt er als je de code uitvoert?\n",
    "Wanneer je op **Shift + Enter** drukt, zal Python de tekst **Hallo wereld!** in de uitvoer tonen.\n",
    "\n",
    "Dit is de basis van hoe je een programma uitvoert en output genereert in Python! 🚀"
   ]
  }
 ],
 "metadata": {},
 "nbformat": 4,
 "nbformat_minor": 5
}