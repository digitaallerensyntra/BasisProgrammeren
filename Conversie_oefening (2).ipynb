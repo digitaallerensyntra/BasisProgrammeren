{
  "metadata": {
    "kernelspec": {
      "name": "python",
      "display_name": "Python (Pyodide)",
      "language": "python"
    },
    "language_info": {
      "codemirror_mode": {
        "name": "python",
        "version": 3
      },
      "file_extension": ".py",
      "mimetype": "text/x-python",
      "name": "python",
      "nbconvert_exporter": "python",
      "pygments_lexer": "ipython3",
      "version": "3.8"
    }
  },
  "nbformat_minor": 4,
  "nbformat": 4,
  "cells": [
    {
      "cell_type": "markdown",
      "source": "# ✏️ Conversie van datatypes in Python\n\nIn deze oefening leer je hoe je waarden kunt omzetten van het ene datatype naar het andere met behulp van `int()`, `float()`, `str()` en `bool()`.",
      "metadata": {}
    },
    {
      "cell_type": "code",
      "source": "# ✏️ Oefening 1: print het datatype van onderstaande variabelen met de functie type()\n\nwaarde1 = \"42\"\nwaarde2 = 3.14\nwaarde3 = 1\nwaarde4 = True\n\n#Typ hieronder jouw oplossing en voer uit met Shift+Enter:\n",
      "metadata": {
        "trusted": true
      },
      "outputs": [],
      "execution_count": 4
    },
    {
      "cell_type": "code",
      "source": "# ✏️ Oefening 2:\n# 1. Zet waarde1 om naar een integer en print\n\n# 2. Zet waarde2 om naar een string en print\n\n# 3. Zet waarde 4 om naar een integer en print\n",
      "metadata": {
        "trusted": true
      },
      "outputs": [
        {
          "name": "stdout",
          "output_type": "stream",
          "text": "42\n"
        }
      ],
      "execution_count": 7
    },
    {
      "cell_type": "code",
      "source": "# ✏️ Oefening 3: Wat gebeurt er als conversie niet lukt?\n\n# int(\"hallo\")  # ← Uncomment deze regel om te testen\n\n# 🤔 VRAAG:\n# Waarom kun je \"hallo\" niet omzetten naar een integer?",
      "metadata": {
        "trusted": true
      },
      "outputs": [],
      "execution_count": 9
    },
    {
      "cell_type": "code",
      "source": "# ✏️ Oefening 4\n\na = \"5.7\"\nb = \"100\"\nc = 0\nd = False\n\n# Zet a om naar float\n\n\n# Zet b om naar integer\n\n\n# Zet c om naar boolean\n\n\n# Zet d om naar string\n\n\n# Print types\n",
      "metadata": {},
      "outputs": [],
      "execution_count": null
    },
    {
      "cell_type": "markdown",
      "source": "🚀 **Bonusopdracht**: Vraag een getal als string op via `input()` en reken er 10 bij (na conversie).",
      "metadata": {}
    },
    {
      "cell_type": "code",
      "source": "# Oplossing\n\n",
      "metadata": {
        "trusted": true
      },
      "outputs": [],
      "execution_count": 11
    }
  ]
}