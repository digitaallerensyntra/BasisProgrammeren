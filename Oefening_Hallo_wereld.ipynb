{
  "metadata": {
    "kernelspec": {
      "name": "python3",
      "display_name": "Python 3 (ipykernel)",
      "language": "python"
    },
    "language_info": {
      "name": "python",
      "version": "3.10.16",
      "mimetype": "text/x-python",
      "codemirror_mode": {
        "name": "ipython",
        "version": 3
      },
      "pygments_lexer": "ipython3",
      "nbconvert_exporter": "python",
      "file_extension": ".py"
    },
    "colab": {
      "provenance": []
    }
  },
  "nbformat_minor": 5,
  "nbformat": 4,
  "cells": [
    {
      "id": "ab0f7587",
      "cell_type": "markdown",
      "source": [
        "# 💡 Oefening Hallo wereld\n",
        "\n",
        "Welkom bij deze oefening! Je leert hier hoe je een eenvoudige printopdracht uitvoert in Python.\n",
        "\n",
        "Voer onderstaande code uit door op de **Play-knop** (vóór de code) of **Ctrl + Enter** te drukken."
      ],
      "metadata": {
        "id": "ab0f7587"
      }
    },
    {
      "cell_type": "code",
      "source": [
        "print(\"Hallo wereld!\")"
      ],
      "metadata": {
        "id": "sbzMCqsQ1BgD",
        "outputId": "11bcd5d6-960d-4fb6-fd24-61eb6c7c87c9",
        "colab": {
          "base_uri": "https://localhost:8080/"
        }
      },
      "id": "sbzMCqsQ1BgD",
      "execution_count": 1,
      "outputs": [
        {
          "output_type": "stream",
          "name": "stdout",
          "text": [
            "Hallo wereld!\n"
          ]
        }
      ]
    },
    {
      "cell_type": "markdown",
      "source": [
        "Schrijf hieronder jouw eigen code om de zin \"Mooi weertje vandaag!\" op het scherm weer te geven. Voer de code uit."
      ],
      "metadata": {
        "id": "7KqyLpco1VTU"
      },
      "id": "7KqyLpco1VTU"
    },
    {
      "id": "914a5e96",
      "cell_type": "code",
      "source": [
        "# Typ hier je code en voer deze uit\n"
      ],
      "metadata": {
        "trusted": false,
        "id": "914a5e96"
      },
      "outputs": [],
      "execution_count": null
    },
    {
      "id": "175a6807",
      "cell_type": "markdown",
      "source": [
        "### ✅ Wat gebeurt er als je de code uitvoert?\n",
        "Wanneer je op de **Play-knop** of **Ctrl + Enter** drukt, zal Python de tekst in de uitvoer tonen.\n",
        "\n",
        "Dit is de basis van hoe je een programma uitvoert en output genereert in Python! 🚀"
      ],
      "metadata": {
        "id": "175a6807"
      }
    }
  ]
}