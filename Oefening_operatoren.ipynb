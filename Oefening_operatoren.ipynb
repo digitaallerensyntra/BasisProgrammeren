{
  "metadata": {
    "kernelspec": {
      "name": "python",
      "display_name": "Python (Pyodide)",
      "language": "python"
    },
    "language_info": {
      "codemirror_mode": {
        "name": "python",
        "version": 3
      },
      "file_extension": ".py",
      "mimetype": "text/x-python",
      "name": "python",
      "nbconvert_exporter": "python",
      "pygments_lexer": "ipython3",
      "version": "3.8"
    }
  },
  "nbformat_minor": 5,
  "nbformat": 4,
  "cells": [
    {
      "id": "f58a31c4",
      "cell_type": "markdown",
      "source": "# 💡 Oefeningen op operatoren\nIn deze notebook oefen je met het gebruik van **Rekenkundige operatoren**, **Vergelijkingsoperatoren** en **Logische operatoren**.\n",
      "metadata": {}
    },
    {
      "id": "60189c8d",
      "cell_type": "code",
      "source": "# ✏️ Oefening 1: Controleer of iemand 18 jaar of ouder is\n\nleeftijd = int(input(\"Wat is je leeftijd? \"))\n\n# 👉 Vul de conditie aan met een vergelijkingsoperator\nif #vervang dit door jouw code\n    print(\"Je bent volwassen.\")\nelse:\n    print(\"Je bent minderjarig.\")\n",
      "metadata": {
        "trusted": true
      },
      "outputs": [],
      "execution_count": 12
    },
    {
      "id": "90766f3d",
      "cell_type": "code",
      "source": "# ✏️ Oefening 2: Geef enkel toegang als iemand ouder is dan 16 én een ticket heeft\n\nleeftijd = int(input(\"Geef je leeftijd: \"))\nticket = input(\"Heb je een ticket? (ja/nee): \")\n\n# 👉 Gebruik een logische AND-operator om beide voorwaarden te combineren\nif #vervang dit door jouw code\n    print(\"Toegang toegestaan\")\nelse:\n    print(\"Geen toegang\")\n",
      "metadata": {
        "trusted": true
      },
      "outputs": [],
      "execution_count": 2
    },
    {
      "id": "3fbe3736",
      "cell_type": "code",
      "source": "# ✏️ Oefening 3: Controleren of de temperatuur extreem is (lager dan 0 °C of hoger dan 35°C) of normaal.\n\ntemp = float(input(\"Geef de temperatuur in °C: \"))\n\n# 👉 Gebruik een logische OR-operator om \nif #vervang dit door jouw code\n    print(\"Waarschuwing: extreme temperatuur!\")\nelse:\n    print(\"Temperatuur is normaal.\")\n",
      "metadata": {
        "trusted": true
      },
      "outputs": [],
      "execution_count": 10
    },
    {
      "id": "7c074be1-f5ff-4dde-9871-968d60809c20",
      "cell_type": "code",
      "source": "# ✏️ Oefening 4: Als het niet regent, de gebruiker laten weten dat die geen paraplu moet meenemen.\n\nregen = input(\"Regent het? (ja/nee): \") == \"ja\"\n\n# 👉 Gebruik de NOT-operator om de voorwaarde om te keren\nif #vervang dit door jouw code\n    print(\"Je hoeft geen paraplu mee te nemen.\")\nelse:\n    print(\"Neem een paraplu mee!\")\n",
      "metadata": {
        "trusted": true
      },
      "outputs": [],
      "execution_count": null
    },
    {
      "id": "1f8df817-00b6-4e5b-9c01-878995ec4038",
      "cell_type": "code",
      "source": "# ✏️ Oefening 5: Vul de logische conditie aan zodat de uitkomst True is\n\na = 6\nb = 12\n\n# 👉 Vul de condities correct aan zodat de uitkomst True is.\nif #vervang dit door jouw code\n    print(\"✅ Voorwaarde is waar\")\nelse:\n    print(\"❌ Voorwaarde is onwaar\")",
      "metadata": {
        "trusted": true
      },
      "outputs": [],
      "execution_count": null
    },
    {
      "id": "3b5b3c3f-b612-4824-8a15-ba6bb63f03c5",
      "cell_type": "code",
      "source": "# ✏️ Oefening 6: Deel enkel een getal door de deler als de deler niet 0 is.\n\ngetal = int(input(\"Geef een getal om door te delen: \"))\ndeler = int(input(\"Geef de deler: \"))\n\n# 👉 Gebruik een NOT en vergelijking om te zorgen dat er geen deling wordt uitgevoerd als de deler 0 is.\nif #vervang dit door jouw code\n    print(\"Resultaat:\", getal / deler)\nelse:\n    print(\"Delen door nul is niet toegestaan!\")",
      "metadata": {
        "trusted": true
      },
      "outputs": [],
      "execution_count": null
    },
    {
      "id": "9cd6fad4-1715-49c7-b0f3-4d0ea1a600c4",
      "cell_type": "code",
      "source": "# ✏️ Oefening 7: Laat het alarm afgaan als er beweging is na middernacht\n\nbeweging = input(\"Is er beweging? (ja/nee): \") == \"ja\"\ntijd = int(input(\"Hoe laat is het (uur, 0-23)? \"))\n\n# 👉 Combineer AND met een tijdsvergelijking\nif #vervang dit door jouw code\n    print(\"Alarm afgaan!\")\nelse:\n    print(\"Geen alarm nodig.\")",
      "metadata": {
        "trusted": true
      },
      "outputs": [],
      "execution_count": null
    },
    {
      "id": "df2ece6a-f979-4d6f-8f38-b356c1ddb24f",
      "cell_type": "code",
      "source": "# ✏️ Oefening 8: Geef een foutmelding als een temperatuur buiten het bereik -50 tot 50 ligt.\n\ntemp = float(input(\"Voer een temperatuur in: \"))\n\n# 👉 Gebruik NOT en een samengestelde AND-voorwaarde zodat een foutmelding wordt gegeven als de ingevoerde temperatuur lager of hoger is dan 50.\nif #vervang dit door jouw code\n    print(\"❌ Ongeldige invoer!\")\nelse:\n    print(\"✅ Invoer aanvaard\")",
      "metadata": {
        "trusted": true
      },
      "outputs": [],
      "execution_count": null
    },
    {
      "id": "7534f093-604d-4f8a-ad7e-cf5a1f8c7d30",
      "cell_type": "code",
      "source": "",
      "metadata": {
        "trusted": true
      },
      "outputs": [],
      "execution_count": null
    }
  ]
}