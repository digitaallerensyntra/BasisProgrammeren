{
 "cells": [
  {
   "cell_type": "markdown",
   "id": "97cf326d",
   "metadata": {},
   "source": [
    "# 💡 Oefening: Rekening delen in een restaurant\n",
    "In deze oefening ga je een klein programma schrijven dat gebruikersinput vraagt, een eenvoudige berekening uitvoert en de uitkomst toont.\n",
    "\n",
    "### 🎯 Doel\n",
    "- Oefenen met `input()`\n",
    "- Werken met `float()` en `int()` conversies\n",
    "- Gebruik van `print()` en f-strings"
   ]
  },
  {
   "cell_type": "markdown",
   "id": "d9dc23fa",
   "metadata": {},
   "source": [
    "## ✏️ Stap 1: Basisversie\n",
    "Vraag de gebruiker om het totaalbedrag van de rekening en met hoeveel personen die gedeeld wordt. Bereken het bedrag per persoon."
   ]
  },
  {
   "cell_type": "code",
   "execution_count": null,
   "id": "34478293",
   "metadata": {},
   "outputs": [],
   "source": [
    "# Vraag het totaalbedrag van de rekening\n",
    "totaal = float(input(\"Wat is het totaalbedrag van de rekening? (€): \"))\n",
    "\n",
    "# Vraag het aantal personen\n",
    "personen = int(input(\"Met hoeveel personen wordt de rekening gedeeld? \"))\n",
    "\n",
    "# Bereken het bedrag per persoon\n",
    "bedrag_per_persoon = totaal / personen\n",
    "\n",
    "# Toon het resultaat\n",
    "print(f\"Iedere persoon moet €{bedrag_per_persoon:.2f} betalen.\")"
   ]
  },
  {
   "cell_type": "markdown",
   "id": "b6ea26c8",
   "metadata": {},
   "source": [
    "## 🚀 Bonus: Fooi toevoegen\n",
    "Breid het programma uit door de gebruiker ook te vragen hoeveel procent fooi er wordt gegeven. Voeg deze toe aan het totaalbedrag en bereken het nieuwe bedrag per persoon."
   ]
  },
  {
   "cell_type": "code",
   "execution_count": null,
   "id": "4abf1672",
   "metadata": {},
   "outputs": [],
   "source": [
    "# Vraag het totaalbedrag van de rekening\n",
    "totaal = float(input(\"Wat is het totaalbedrag van de rekening? (€): \"))\n",
    "\n",
    "# Vraag het aantal personen\n",
    "personen = int(input(\"Met hoeveel personen wordt de rekening gedeeld? \"))\n",
    "\n",
    "# Vraag de fooi in procent\n",
    "fooi_percentage = float(input(\"Hoeveel procent fooi wil je geven? \"))\n",
    "\n",
    "# Bereken het totaalbedrag inclusief fooi\n",
    "totaal_incl_fooi = totaal + (totaal * (fooi_percentage / 100))\n",
    "\n",
    "# Bereken het bedrag per persoon\n",
    "bedrag_per_persoon = totaal_incl_fooi / personen\n",
    "\n",
    "# Toon het resultaat\n",
    "print(f\"Iedere persoon moet €{bedrag_per_persoon:.2f} betalen inclusief fooi.\")"
   ]
  }
 ],
 "metadata": {},
 "nbformat": 4,
 "nbformat_minor": 5
}
